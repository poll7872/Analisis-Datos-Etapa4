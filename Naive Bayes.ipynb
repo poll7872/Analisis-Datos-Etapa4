{
 "cells": [
  {
   "cell_type": "code",
   "execution_count": 33,
   "id": "c6cee5d3-bcda-4096-bbec-9a97ed127ac7",
   "metadata": {
    "tags": []
   },
   "outputs": [],
   "source": [
    "import pandas as pd\n",
    "from sklearn.model_selection import train_test_split\n",
    "from sklearn.naive_bayes import MultinomialNB\n",
    "from sklearn.metrics import confusion_matrix, cohen_kappa_score, accuracy_score\n",
    "import matplotlib.pyplot as plt"
   ]
  },
  {
   "cell_type": "code",
   "execution_count": 34,
   "id": "e118dd8c-e70e-48b6-aede-100ec8514841",
   "metadata": {
    "tags": []
   },
   "outputs": [],
   "source": [
    "# Seleccionar los datos\n",
    "datos = pd.read_csv('Cleaned-Data.csv')"
   ]
  },
  {
   "cell_type": "code",
   "execution_count": 35,
   "id": "67b3ba12-8803-49a1-9701-29679041a107",
   "metadata": {
    "tags": []
   },
   "outputs": [],
   "source": [
    "# Dividir el conjunto de datos en variables predictoras (X) y variable objetivo (y)\n",
    "X = datos.drop(['Severity_None'], axis=1)  # Variables predictoras (excluyendo 'Severity_None')\n",
    "\n",
    "# Codificar variables categóricas (one-hot encoding) - Esto dado que country es de tipo String\n",
    "X = pd.get_dummies(X, columns=['Country'], drop_first=True)\n",
    "\n",
    "y = datos['Severity_None']  # Variable objetivo ('Severity_None')"
   ]
  },
  {
   "cell_type": "code",
   "execution_count": 36,
   "id": "10fefb7a-5109-4ae9-b605-4e53f35e3a25",
   "metadata": {
    "tags": []
   },
   "outputs": [],
   "source": [
    "# Dividir el conjunto de datos en conjuntos de entrenamiento y prueba\n",
    "X_train, X_test, y_train, y_test = train_test_split(X, y, test_size=0.2, random_state=42)\n"
   ]
  },
  {
   "cell_type": "code",
   "execution_count": 37,
   "id": "2da5b1c5-2bed-4fa0-9b42-888eaf4c9adf",
   "metadata": {
    "tags": []
   },
   "outputs": [
    {
     "data": {
      "text/html": [
       "<style>#sk-container-id-2 {color: black;}#sk-container-id-2 pre{padding: 0;}#sk-container-id-2 div.sk-toggleable {background-color: white;}#sk-container-id-2 label.sk-toggleable__label {cursor: pointer;display: block;width: 100%;margin-bottom: 0;padding: 0.3em;box-sizing: border-box;text-align: center;}#sk-container-id-2 label.sk-toggleable__label-arrow:before {content: \"▸\";float: left;margin-right: 0.25em;color: #696969;}#sk-container-id-2 label.sk-toggleable__label-arrow:hover:before {color: black;}#sk-container-id-2 div.sk-estimator:hover label.sk-toggleable__label-arrow:before {color: black;}#sk-container-id-2 div.sk-toggleable__content {max-height: 0;max-width: 0;overflow: hidden;text-align: left;background-color: #f0f8ff;}#sk-container-id-2 div.sk-toggleable__content pre {margin: 0.2em;color: black;border-radius: 0.25em;background-color: #f0f8ff;}#sk-container-id-2 input.sk-toggleable__control:checked~div.sk-toggleable__content {max-height: 200px;max-width: 100%;overflow: auto;}#sk-container-id-2 input.sk-toggleable__control:checked~label.sk-toggleable__label-arrow:before {content: \"▾\";}#sk-container-id-2 div.sk-estimator input.sk-toggleable__control:checked~label.sk-toggleable__label {background-color: #d4ebff;}#sk-container-id-2 div.sk-label input.sk-toggleable__control:checked~label.sk-toggleable__label {background-color: #d4ebff;}#sk-container-id-2 input.sk-hidden--visually {border: 0;clip: rect(1px 1px 1px 1px);clip: rect(1px, 1px, 1px, 1px);height: 1px;margin: -1px;overflow: hidden;padding: 0;position: absolute;width: 1px;}#sk-container-id-2 div.sk-estimator {font-family: monospace;background-color: #f0f8ff;border: 1px dotted black;border-radius: 0.25em;box-sizing: border-box;margin-bottom: 0.5em;}#sk-container-id-2 div.sk-estimator:hover {background-color: #d4ebff;}#sk-container-id-2 div.sk-parallel-item::after {content: \"\";width: 100%;border-bottom: 1px solid gray;flex-grow: 1;}#sk-container-id-2 div.sk-label:hover label.sk-toggleable__label {background-color: #d4ebff;}#sk-container-id-2 div.sk-serial::before {content: \"\";position: absolute;border-left: 1px solid gray;box-sizing: border-box;top: 0;bottom: 0;left: 50%;z-index: 0;}#sk-container-id-2 div.sk-serial {display: flex;flex-direction: column;align-items: center;background-color: white;padding-right: 0.2em;padding-left: 0.2em;position: relative;}#sk-container-id-2 div.sk-item {position: relative;z-index: 1;}#sk-container-id-2 div.sk-parallel {display: flex;align-items: stretch;justify-content: center;background-color: white;position: relative;}#sk-container-id-2 div.sk-item::before, #sk-container-id-2 div.sk-parallel-item::before {content: \"\";position: absolute;border-left: 1px solid gray;box-sizing: border-box;top: 0;bottom: 0;left: 50%;z-index: -1;}#sk-container-id-2 div.sk-parallel-item {display: flex;flex-direction: column;z-index: 1;position: relative;background-color: white;}#sk-container-id-2 div.sk-parallel-item:first-child::after {align-self: flex-end;width: 50%;}#sk-container-id-2 div.sk-parallel-item:last-child::after {align-self: flex-start;width: 50%;}#sk-container-id-2 div.sk-parallel-item:only-child::after {width: 0;}#sk-container-id-2 div.sk-dashed-wrapped {border: 1px dashed gray;margin: 0 0.4em 0.5em 0.4em;box-sizing: border-box;padding-bottom: 0.4em;background-color: white;}#sk-container-id-2 div.sk-label label {font-family: monospace;font-weight: bold;display: inline-block;line-height: 1.2em;}#sk-container-id-2 div.sk-label-container {text-align: center;}#sk-container-id-2 div.sk-container {/* jupyter's `normalize.less` sets `[hidden] { display: none; }` but bootstrap.min.css set `[hidden] { display: none !important; }` so we also need the `!important` here to be able to override the default hidden behavior on the sphinx rendered scikit-learn.org. See: https://github.com/scikit-learn/scikit-learn/issues/21755 */display: inline-block !important;position: relative;}#sk-container-id-2 div.sk-text-repr-fallback {display: none;}</style><div id=\"sk-container-id-2\" class=\"sk-top-container\"><div class=\"sk-text-repr-fallback\"><pre>MultinomialNB()</pre><b>In a Jupyter environment, please rerun this cell to show the HTML representation or trust the notebook. <br />On GitHub, the HTML representation is unable to render, please try loading this page with nbviewer.org.</b></div><div class=\"sk-container\" hidden><div class=\"sk-item\"><div class=\"sk-estimator sk-toggleable\"><input class=\"sk-toggleable__control sk-hidden--visually\" id=\"sk-estimator-id-2\" type=\"checkbox\" checked><label for=\"sk-estimator-id-2\" class=\"sk-toggleable__label sk-toggleable__label-arrow\">MultinomialNB</label><div class=\"sk-toggleable__content\"><pre>MultinomialNB()</pre></div></div></div></div></div>"
      ],
      "text/plain": [
       "MultinomialNB()"
      ]
     },
     "execution_count": 37,
     "metadata": {},
     "output_type": "execute_result"
    }
   ],
   "source": [
    "# Inicializar y ajustar el modelo Naive Bayes Multinomial\n",
    "naive_bayes_model = MultinomialNB()\n",
    "naive_bayes_model.fit(X_train, y_train)"
   ]
  },
  {
   "cell_type": "code",
   "execution_count": 38,
   "id": "c60f604c-36d0-48eb-9910-e611fcea55a3",
   "metadata": {
    "tags": []
   },
   "outputs": [],
   "source": [
    "# Realizar predicciones en el conjunto de prueba\n",
    "y_pred_proba = naive_bayes_model.predict_proba(X_test)[:, 1]\n",
    "\n",
    "# Crear DataFrame para almacenar resultados\n",
    "datos_test = pd.DataFrame()\n",
    "\n",
    "# Añadir columnas necesarias a datos_test\n",
    "datos_test['Country'] = datos.loc[X_test.index, 'Country'] #agrego la columna 'Country' usando indexes"
   ]
  },
  {
   "cell_type": "code",
   "execution_count": 39,
   "id": "453dce65-9b78-4abd-b573-69c03ffaf38d",
   "metadata": {
    "tags": []
   },
   "outputs": [],
   "source": [
    "# Calculamos algunas probabilidades previas\n",
    "P_infectado = datos['Severity_None'].mean()  # Probabilidad previa de estar infectado\n",
    "P_sintomas = datos['None_Sympton'].mean()"
   ]
  },
  {
   "cell_type": "markdown",
   "id": "46f87682-0433-4b09-87ee-5315ea456803",
   "metadata": {},
   "source": [
    "# Analisis Para clasificar un nuevo paciente como infectado o no. A partir de la clasificación con Naive Bayes\n",
    "\n",
    "A continuación se presenta un análisis profundo de las probabilidades posteriores de estar infectado o no infectado dado ciertos síntomas, utilizando un modelo de Naive Bayes Multinomial. Los resultados revelan variaciones significativas entre los países y proporcionan información valiosa para la comprensión de la relación entre síntomas e infección.\n",
    "\n",
    "En la siguiente tabla se detalla las probabilidades posteriores para cada país en el conjunto de prueba. Se destaca que la probabilidad de estar infectado dado síntomas varía considerablemente, siendo más pronunciada en algunos países como Irán y China."
   ]
  },
  {
   "cell_type": "code",
   "execution_count": 40,
   "id": "5f84b339-ea75-41a8-90a9-33bda93d0257",
   "metadata": {
    "tags": []
   },
   "outputs": [
    {
     "name": "stdout",
     "output_type": "stream",
     "text": [
      "                   Country  P_infectado_dado_sintomas  \\\n",
      "277936           Other-EUR                   0.000182   \n",
      "193502             Germany                   0.000180   \n",
      "92446                 Iran                   1.000000   \n",
      "117607  Republic of Korean                   0.000160   \n",
      "240924                 UAE                   0.000230   \n",
      "...                    ...                        ...   \n",
      "122340  Republic of Korean                   0.000142   \n",
      "151370              France                   0.000159   \n",
      "288434               Other                   0.000228   \n",
      "1619                 China                   1.000000   \n",
      "68501                 Iran                   0.000179   \n",
      "\n",
      "        P_no_infectado_dado_sintomas  \n",
      "277936                      0.999818  \n",
      "193502                      0.999820  \n",
      "92446                       0.000000  \n",
      "117607                      0.999840  \n",
      "240924                      0.999770  \n",
      "...                              ...  \n",
      "122340                      0.999858  \n",
      "151370                      0.999841  \n",
      "288434                      0.999772  \n",
      "1619                        0.000000  \n",
      "68501                       0.999821  \n",
      "\n",
      "[63360 rows x 3 columns]\n"
     ]
    }
   ],
   "source": [
    "# Calculamos las probabilidades posteriores utilizando las predicciones del modelo\n",
    "datos_test['P_infectado_dado_sintomas'] = y_pred_proba * P_infectado / P_sintomas\n",
    "datos_test['P_no_infectado_dado_sintomas'] = 1.0 - datos_test['P_infectado_dado_sintomas']\n",
    "\n",
    "# Asegurarnos de que las probabilidades estén en el rango [0, 1]\n",
    "datos_test['P_infectado_dado_sintomas'] = datos_test['P_infectado_dado_sintomas'].clip(0, 1)\n",
    "datos_test['P_no_infectado_dado_sintomas'] = 1.0 - datos_test['P_infectado_dado_sintomas']\n",
    "\n",
    "\n",
    "# Imprimimos el resultado\n",
    "print(datos_test[['Country', 'P_infectado_dado_sintomas', 'P_no_infectado_dado_sintomas']])\n"
   ]
  },
  {
   "cell_type": "markdown",
   "id": "2022349a-e530-45fe-abcd-58be4cc4ea5a",
   "metadata": {},
   "source": [
    "- Para entender un poco más la tabla, se conoce que entre más cercano esté a '1' significa que mayor probabilidad hay de estar infectado con covid dado lo sintomas. Mientras que, entre más cercano esté a '0' significa que menor es la probabilidad."
   ]
  },
  {
   "cell_type": "markdown",
   "id": "91209f25-310c-4472-9634-fa565b8e9ad4",
   "metadata": {},
   "source": [
    "- Por lo tanto, es crucial destacar que las probabilidades más cercanas a 1 indican una mayor certeza en la predicción del modelo. En este contexto, se identifican países con altas probabilidades de estar infectados dado síntomas, como Irán y China."
   ]
  },
  {
   "cell_type": "markdown",
   "id": "129b3b4c-e848-49ff-b2d9-7d078a45d828",
   "metadata": {},
   "source": [
    "Una ves que se conoce las probabilidades de estar infectado o no a partir de los sintomas en cada pais. Cuando se clasifica a un paciente se pueden tomar variables como lo puede ser el genero como se presenta a continuación"
   ]
  },
  {
   "cell_type": "code",
   "execution_count": 41,
   "id": "ab7ff5a9-1783-45a2-9b59-37e6ad9f4f14",
   "metadata": {
    "tags": []
   },
   "outputs": [
    {
     "name": "stdout",
     "output_type": "stream",
     "text": [
      "        Gender_Female  P_infectado_dado_sintomas  P_no_infectado_dado_sintomas\n",
      "277936         277936                   0.000182                      0.999818\n",
      "193502         193502                   0.000180                      0.999820\n",
      "92446           92446                   1.000000                      0.000000\n",
      "117607         117607                   0.000160                      0.999840\n",
      "240924         240924                   0.000230                      0.999770\n",
      "...               ...                        ...                           ...\n",
      "122340         122340                   0.000142                      0.999858\n",
      "151370         151370                   0.000159                      0.999841\n",
      "288434         288434                   0.000228                      0.999772\n",
      "1619             1619                   1.000000                      0.000000\n",
      "68501           68501                   0.000179                      0.999821\n",
      "\n",
      "[63360 rows x 3 columns]\n"
     ]
    }
   ],
   "source": [
    "# Imprimimos el resultado\n",
    "# Añadir columnas necesarias a datos_test\n",
    "datos_test['Gender_Female'] = X_test.index\n",
    "print(datos_test[['Gender_Female', 'P_infectado_dado_sintomas', 'P_no_infectado_dado_sintomas']])\n"
   ]
  },
  {
   "cell_type": "markdown",
   "id": "266c41e6-70f2-4d56-bc8a-191df2343c04",
   "metadata": {},
   "source": [
    "Si notamos la anterior tabla. Al comparar estas probabilidades con los paises con mayor probabilidad, se destaca que:\n",
    "\n",
    "- La probabilidad de estar infectado dado síntomas es más pronunciada en el género masculino, especialmente en los casos de Irán y China.\n",
    "- La probabilidad de no estar infectado dado síntomas es más alta en el género femenino."
   ]
  },
  {
   "cell_type": "markdown",
   "id": "f05cc424-ed3d-4ca9-8eae-10f09d6b3531",
   "metadata": {},
   "source": [
    "### Grafico de Torta\n",
    "\n",
    "El gráfico de torta refleja la distribución promedio de las probabilidades de estar infectado o no estar infectado dado síntomas en el conjunto de prueba. Esta visualización facilita la comprensión de la proporción entre ambas categorías.\n",
    "\n",
    "### Conclusión\n",
    "\n",
    "Como se presenta en el siguiente grafico de torta, si se desea clasificar un paciente como infectado de covid de 19 a partir de lo sintomas se debe de tener en cuenta:\n",
    "\n",
    "- La probabilidad de que una persona este infectada a partir de los sintomas es solo del 24,9%.\n",
    "- La probabilidad de que una persona no este infectada a partir de los sintomas es del 75,1%\n",
    "\n",
    "Por lo tanto, es importante explorar otras variables además de lo sintomas para clasificar a un nuevo paciente como infectado con covid-19."
   ]
  },
  {
   "cell_type": "code",
   "execution_count": 42,
   "id": "4e373d6c-9cd8-40bf-a46b-e0bad09aaa44",
   "metadata": {
    "tags": []
   },
   "outputs": [],
   "source": [
    "# Calcular las medias de las probabilidades para el gráfico de torta\n",
    "mean_prob_infected = datos_test['P_infectado_dado_sintomas'].mean()\n",
    "mean_prob_not_infected = datos_test['P_no_infectado_dado_sintomas'].mean()\n"
   ]
  },
  {
   "cell_type": "code",
   "execution_count": 43,
   "id": "e7297ec6-7fb0-4252-b44f-4020423a2718",
   "metadata": {
    "tags": []
   },
   "outputs": [
    {
     "data": {
      "image/png": "[encoded data removed]",
      "text/plain": [
       "<Figure size 800x800 with 1 Axes>"
      ]
     },
     "metadata": {},
     "output_type": "display_data"
    }
   ],
   "source": [
    "# Crear un gráfico de torta\n",
    "plt.figure(figsize=(8, 8))\n",
    "plt.pie([mean_prob_infected, mean_prob_not_infected],\n",
    "        labels=['P(infectado | síntomas)', 'P(no infectado | síntomas)'],\n",
    "        autopct='%1.1f%%', colors=['blue', 'orange'])\n",
    "plt.title('Probabilidades Promedio de estar Infectado/No Infectado dado Síntomas')\n",
    "plt.show()"
   ]
  },
  {
   "cell_type": "markdown",
   "id": "695027d6-5ad7-48b9-81f0-84aae7c567e9",
   "metadata": {},
   "source": [
    "# Análisis de las métricas de rendimiento del modelo.\n",
    "\n",
    "Nuestro modelo de clasificación tiene como objetivo identificar si un nuevo paciente está infectado o no con base en sus síntomas. A continuación, se presenta un análisis detallado de las métricas de rendimiento del modelo:\n",
    "\n",
    "**Clasificaciones Correctas (Correct classified):** El modelo ha logrado clasificar correctamente a 50,616. Demostrando su efectividad ya que de 63360 solo obtuvo equivocadamente 12744 clasificaciones.\n",
    "\n",
    "**Coeficiente Kappa de Cohen (Cohen's Kappa):** El coeficiente Kappa de Cohen es 0.2621, indicando una concordancia moderada más allá de lo esperado por azar. Este coeficiente es una medida robusta que tiene en cuenta la posibilidad de aciertos por casualidad.\n",
    "\n",
    "**Precisión (Acurracy):** La precisión del modelo es del 79.89%, lo que significa que casi el 80% de las predicciones realizadas por el modelo son correctas. Este porcentaje es una indicación general del rendimiento del modelo y su capacidad para discriminar entre las clases de infectado y no infectado.\n"
   ]
  },
  {
   "cell_type": "code",
   "execution_count": 44,
   "id": "39822f84-6c71-4473-9eda-14e3322b1745",
   "metadata": {
    "tags": []
   },
   "outputs": [
    {
     "name": "stdout",
     "output_type": "stream",
     "text": [
      "Matriz de Confusión:\n",
      "[[47603     0]\n",
      " [12744  3013]]\n",
      "\n",
      "Correct classified: 50616\n",
      "Cohen's Kappa: 0.26213251414387784\n",
      "Wrong Classified: 12744\n",
      "Accuracy: 0.7988636363636363\n",
      "Error: 0.20113636363636367\n"
     ]
    }
   ],
   "source": [
    "# Realizar predicciones en el conjunto de prueba\n",
    "y_pred = naive_bayes_model.predict(X_test)\n",
    "\n",
    "# Calcular la matriz de confusión\n",
    "conf_matrix = confusion_matrix(y_test, y_pred)\n",
    "\n",
    "# Calcular las métricas\n",
    "correct_classified = conf_matrix[0, 0] + conf_matrix[1, 1]\n",
    "cohen_kappa = cohen_kappa_score(y_test, y_pred)\n",
    "wrong_classified = conf_matrix[0, 1] + conf_matrix[1, 0]\n",
    "accuracy = accuracy_score(y_test, y_pred)\n",
    "error = 1 - accuracy\n",
    "\n",
    "# Imprimir las métricas\n",
    "print(\"Matriz de Confusión:\")\n",
    "print(conf_matrix)\n",
    "print(\"\\nCorrect classified:\", correct_classified)\n",
    "print(\"Cohen's Kappa:\", cohen_kappa)\n",
    "print(\"Wrong Classified:\", wrong_classified)\n",
    "print(\"Accuracy:\", accuracy)\n",
    "print(\"Error:\", error)"
   ]
  }
 ],
 "metadata": {
  "kernelspec": {
   "display_name": "Python 3 (ipykernel)",
   "language": "python",
   "name": "python3"
  },
  "language_info": {
   "codemirror_mode": {
    "name": "ipython",
    "version": 3
   },
   "file_extension": ".py",
   "mimetype": "text/x-python",
   "name": "python",
   "nbconvert_exporter": "python",
   "pygments_lexer": "ipython3",
   "version": "3.11.4"
  }
 },
 "nbformat": 4,
 "nbformat_minor": 5
}
